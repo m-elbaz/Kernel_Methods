{
 "cells": [
  {
   "cell_type": "code",
   "execution_count": 1,
   "metadata": {},
   "outputs": [
    {
     "name": "stdout",
     "output_type": "stream",
     "text": [
      "/Users/mouniaelbaz/MVA/Kernel Methods\n"
     ]
    }
   ],
   "source": [
    "cd .."
   ]
  },
  {
   "cell_type": "code",
   "execution_count": 2,
   "metadata": {},
   "outputs": [],
   "source": [
    "%load_ext autoreload\n",
    "%autoreload 2\n",
    "from main import MismatchSVM\n"
   ]
  },
  {
   "cell_type": "code",
   "execution_count": 8,
   "metadata": {},
   "outputs": [],
   "source": [
    "import numpy as np"
   ]
  },
  {
   "cell_type": "code",
   "execution_count": null,
   "metadata": {},
   "outputs": [],
   "source": []
  },
  {
   "cell_type": "code",
   "execution_count": 56,
   "metadata": {},
   "outputs": [
    {
     "name": "stdout",
     "output_type": "stream",
     "text": [
      "Loading mismatch matrix\n",
      "Fold 0\n",
      "Fold 1\n",
      "Fold 2\n",
      "Fold 3\n",
      "Fold 4\n",
      "             0         1         2         3         4\n",
      "1.55   0.95875   0.95625      0.95  0.959375    0.9575\n",
      "1.60    0.9575  0.955625  0.945625  0.958125  0.954375\n",
      "1.65  0.956875  0.953125     0.945  0.958125   0.95375\n",
      "1.70  0.954375  0.951875  0.944375  0.955625  0.953125\n",
      "1.75  0.953125  0.949375   0.94125  0.953125  0.951875\n",
      "1.80    0.9525    0.9475  0.938125  0.951875  0.950625\n",
      "1.85   0.95125     0.945  0.936875  0.949375   0.94875\n",
      "1.90  0.948125    0.9425     0.935    0.9475  0.949375\n",
      "1.95     0.945  0.941875  0.934375  0.944375   0.94625\n",
      "2.00  0.944375   0.93875   0.93375  0.943125    0.9425\n",
      "           0       1       2       3       4\n",
      "1.55   0.665  0.6475  0.6775   0.635    0.64\n",
      "1.60  0.6625  0.6525  0.6775   0.635  0.6375\n",
      "1.65   0.665   0.655  0.6825  0.6375   0.645\n",
      "1.70   0.665   0.655    0.68  0.6375  0.6475\n",
      "1.75  0.6675    0.66    0.68  0.6425  0.6475\n",
      "1.80  0.6675    0.66  0.6775  0.6425   0.645\n",
      "1.85  0.6675  0.6575   0.675   0.645  0.6425\n",
      "1.90    0.66  0.6525  0.6775  0.6475   0.645\n",
      "1.95  0.6575  0.6575   0.675   0.655  0.6425\n",
      "2.00   0.655  0.6575   0.675   0.655    0.64\n"
     ]
    }
   ],
   "source": [
    "mism=MismatchSVM(dataset_id=1, k=8, m=2)\n",
    "mism.compute_mismatch_matrice(norm=False)\n",
    "lmbda_l = [1.8+ 0.05*k for k in range(-5,5)]\n",
    "#lmbda_l=[1.5]\n",
    "#lmbda_l=[1]\n",
    "N_fold=5\n",
    "res_val, res_tr=mism.lmbda_Nfold(N_fold, lmbda_l)\n",
    "print(res_tr)\n",
    "print(res_val)\n",
    "res_val.to_csv('lmbda_data{}_k{}_m{}.csv'.format(mism.dataset_id, mism.k, mism.m))"
   ]
  },
  {
   "cell_type": "code",
   "execution_count": 57,
   "metadata": {},
   "outputs": [],
   "source": [
    "res_val.to_csv('lmbda_data{}_k{}_m{}.csv'.format(mism.dataset_id, mism.k, mism.m))"
   ]
  },
  {
   "cell_type": "code",
   "execution_count": 58,
   "metadata": {},
   "outputs": [],
   "source": [
    "res_mean=res_val.mean(axis=1)"
   ]
  },
  {
   "cell_type": "code",
   "execution_count": 59,
   "metadata": {},
   "outputs": [
    {
     "data": {
      "text/plain": [
       "1.55    0.6530\n",
       "1.60    0.6530\n",
       "1.65    0.6570\n",
       "1.70    0.6570\n",
       "1.75    0.6595\n",
       "1.80    0.6585\n",
       "1.85    0.6575\n",
       "1.90    0.6565\n",
       "1.95    0.6575\n",
       "2.00    0.6565\n",
       "dtype: float64"
      ]
     },
     "execution_count": 59,
     "metadata": {},
     "output_type": "execute_result"
    }
   ],
   "source": [
    "res_mean"
   ]
  },
  {
   "cell_type": "code",
   "execution_count": 27,
   "metadata": {},
   "outputs": [
    {
     "data": {
      "text/html": [
       "<div>\n",
       "<style scoped>\n",
       "    .dataframe tbody tr th:only-of-type {\n",
       "        vertical-align: middle;\n",
       "    }\n",
       "\n",
       "    .dataframe tbody tr th {\n",
       "        vertical-align: top;\n",
       "    }\n",
       "\n",
       "    .dataframe thead th {\n",
       "        text-align: right;\n",
       "    }\n",
       "</style>\n",
       "<table border=\"1\" class=\"dataframe\">\n",
       "  <thead>\n",
       "    <tr style=\"text-align: right;\">\n",
       "      <th></th>\n",
       "      <th>0</th>\n",
       "      <th>1</th>\n",
       "      <th>2</th>\n",
       "      <th>3</th>\n",
       "      <th>4</th>\n",
       "    </tr>\n",
       "  </thead>\n",
       "  <tbody>\n",
       "    <tr>\n",
       "      <th>0.500000</th>\n",
       "      <td>0.6425</td>\n",
       "      <td>0.6425</td>\n",
       "      <td>0.61</td>\n",
       "      <td>0.62</td>\n",
       "      <td>0.6125</td>\n",
       "    </tr>\n",
       "    <tr>\n",
       "      <th>0.611111</th>\n",
       "      <td>0.65</td>\n",
       "      <td>0.6475</td>\n",
       "      <td>0.6025</td>\n",
       "      <td>0.625</td>\n",
       "      <td>0.6075</td>\n",
       "    </tr>\n",
       "    <tr>\n",
       "      <th>0.722222</th>\n",
       "      <td>0.66</td>\n",
       "      <td>0.665</td>\n",
       "      <td>0.6125</td>\n",
       "      <td>0.6275</td>\n",
       "      <td>0.6125</td>\n",
       "    </tr>\n",
       "    <tr>\n",
       "      <th>0.833333</th>\n",
       "      <td>0.6575</td>\n",
       "      <td>0.6575</td>\n",
       "      <td>0.6125</td>\n",
       "      <td>0.6075</td>\n",
       "      <td>0.605</td>\n",
       "    </tr>\n",
       "    <tr>\n",
       "      <th>0.944444</th>\n",
       "      <td>0.665</td>\n",
       "      <td>0.665</td>\n",
       "      <td>0.62</td>\n",
       "      <td>0.595</td>\n",
       "      <td>0.6125</td>\n",
       "    </tr>\n",
       "    <tr>\n",
       "      <th>1.055556</th>\n",
       "      <td>0.66</td>\n",
       "      <td>0.6675</td>\n",
       "      <td>0.625</td>\n",
       "      <td>0.6025</td>\n",
       "      <td>0.62</td>\n",
       "    </tr>\n",
       "    <tr>\n",
       "      <th>1.166667</th>\n",
       "      <td>0.6525</td>\n",
       "      <td>0.6675</td>\n",
       "      <td>0.605</td>\n",
       "      <td>0.6</td>\n",
       "      <td>0.63</td>\n",
       "    </tr>\n",
       "    <tr>\n",
       "      <th>1.277778</th>\n",
       "      <td>0.6475</td>\n",
       "      <td>0.665</td>\n",
       "      <td>0.6</td>\n",
       "      <td>0.6075</td>\n",
       "      <td>0.6275</td>\n",
       "    </tr>\n",
       "    <tr>\n",
       "      <th>1.388889</th>\n",
       "      <td>0.665</td>\n",
       "      <td>0.6575</td>\n",
       "      <td>0.6025</td>\n",
       "      <td>0.6075</td>\n",
       "      <td>0.6275</td>\n",
       "    </tr>\n",
       "    <tr>\n",
       "      <th>1.500000</th>\n",
       "      <td>0.6675</td>\n",
       "      <td>0.665</td>\n",
       "      <td>0.595</td>\n",
       "      <td>0.5975</td>\n",
       "      <td>0.62</td>\n",
       "    </tr>\n",
       "  </tbody>\n",
       "</table>\n",
       "</div>"
      ],
      "text/plain": [
       "               0       1       2       3       4\n",
       "0.500000  0.6425  0.6425    0.61    0.62  0.6125\n",
       "0.611111    0.65  0.6475  0.6025   0.625  0.6075\n",
       "0.722222    0.66   0.665  0.6125  0.6275  0.6125\n",
       "0.833333  0.6575  0.6575  0.6125  0.6075   0.605\n",
       "0.944444   0.665   0.665    0.62   0.595  0.6125\n",
       "1.055556    0.66  0.6675   0.625  0.6025    0.62\n",
       "1.166667  0.6525  0.6675   0.605     0.6    0.63\n",
       "1.277778  0.6475   0.665     0.6  0.6075  0.6275\n",
       "1.388889   0.665  0.6575  0.6025  0.6075  0.6275\n",
       "1.500000  0.6675   0.665   0.595  0.5975    0.62"
      ]
     },
     "execution_count": 27,
     "metadata": {},
     "output_type": "execute_result"
    }
   ],
   "source": [
    "res_val"
   ]
  },
  {
   "cell_type": "code",
   "execution_count": 32,
   "metadata": {},
   "outputs": [
    {
     "data": {
      "text/plain": [
       "1    0.65\n",
       "dtype: float64"
      ]
     },
     "execution_count": 32,
     "metadata": {},
     "output_type": "execute_result"
    }
   ],
   "source": [
    "res_val.mean(axis=1)"
   ]
  },
  {
   "cell_type": "code",
   "execution_count": 22,
   "metadata": {},
   "outputs": [
    {
     "data": {
      "text/plain": [
       "<AxesSubplot:>"
      ]
     },
     "execution_count": 22,
     "metadata": {},
     "output_type": "execute_result"
    },
    {
     "data": {
      "image/png": "[encoded data removed]",
      "text/plain": [
       "<Figure size 432x288 with 1 Axes>"
      ]
     },
     "metadata": {
      "needs_background": "light"
     },
     "output_type": "display_data"
    }
   ],
   "source": [
    "res_tr.mean(axis=1).plot()\n",
    "res_val.mean(axis=1).plot()"
   ]
  },
  {
   "cell_type": "code",
   "execution_count": 29,
   "metadata": {},
   "outputs": [],
   "source": [
    "import pandas as pd"
   ]
  },
  {
   "cell_type": "code",
   "execution_count": 41,
   "metadata": {},
   "outputs": [
    {
     "data": {
      "text/plain": [
       "1.0    0.6450\n",
       "1.1    0.6485\n",
       "1.2    0.6535\n",
       "1.3    0.6520\n",
       "1.4    0.6540\n",
       "1.5    0.6540\n",
       "1.6    0.6530\n",
       "1.7    0.6570\n",
       "1.8    0.6580\n",
       "1.9    0.6560\n",
       "2.0    0.6565\n",
       "2.1    0.6505\n",
       "dtype: float64"
      ]
     },
     "execution_count": 41,
     "metadata": {},
     "output_type": "execute_result"
    }
   ],
   "source": [
    "res_ger= pd.read_csv('lmbda_data{}_k{}_m{}.csv'.format(1,8,2), index_col='Unnamed: 0')\n",
    "res_ger.mean(axis=1)"
   ]
  },
  {
   "cell_type": "code",
   "execution_count": 39,
   "metadata": {},
   "outputs": [
    {
     "data": {
      "text/html": [
       "<div>\n",
       "<style scoped>\n",
       "    .dataframe tbody tr th:only-of-type {\n",
       "        vertical-align: middle;\n",
       "    }\n",
       "\n",
       "    .dataframe tbody tr th {\n",
       "        vertical-align: top;\n",
       "    }\n",
       "\n",
       "    .dataframe thead th {\n",
       "        text-align: right;\n",
       "    }\n",
       "</style>\n",
       "<table border=\"1\" class=\"dataframe\">\n",
       "  <thead>\n",
       "    <tr style=\"text-align: right;\">\n",
       "      <th></th>\n",
       "      <th>Unnamed: 0</th>\n",
       "      <th>0</th>\n",
       "      <th>1</th>\n",
       "      <th>2</th>\n",
       "      <th>3</th>\n",
       "      <th>4</th>\n",
       "    </tr>\n",
       "  </thead>\n",
       "  <tbody>\n",
       "    <tr>\n",
       "      <th>0</th>\n",
       "      <td>1.0</td>\n",
       "      <td>0.6450</td>\n",
       "      <td>0.6500</td>\n",
       "      <td>0.6625</td>\n",
       "      <td>0.6300</td>\n",
       "      <td>0.6375</td>\n",
       "    </tr>\n",
       "    <tr>\n",
       "      <th>1</th>\n",
       "      <td>1.1</td>\n",
       "      <td>0.6525</td>\n",
       "      <td>0.6525</td>\n",
       "      <td>0.6675</td>\n",
       "      <td>0.6350</td>\n",
       "      <td>0.6350</td>\n",
       "    </tr>\n",
       "    <tr>\n",
       "      <th>2</th>\n",
       "      <td>1.2</td>\n",
       "      <td>0.6600</td>\n",
       "      <td>0.6575</td>\n",
       "      <td>0.6750</td>\n",
       "      <td>0.6400</td>\n",
       "      <td>0.6350</td>\n",
       "    </tr>\n",
       "    <tr>\n",
       "      <th>3</th>\n",
       "      <td>1.3</td>\n",
       "      <td>0.6625</td>\n",
       "      <td>0.6500</td>\n",
       "      <td>0.6750</td>\n",
       "      <td>0.6425</td>\n",
       "      <td>0.6300</td>\n",
       "    </tr>\n",
       "    <tr>\n",
       "      <th>4</th>\n",
       "      <td>1.4</td>\n",
       "      <td>0.6600</td>\n",
       "      <td>0.6500</td>\n",
       "      <td>0.6800</td>\n",
       "      <td>0.6400</td>\n",
       "      <td>0.6400</td>\n",
       "    </tr>\n",
       "    <tr>\n",
       "      <th>5</th>\n",
       "      <td>1.5</td>\n",
       "      <td>0.6650</td>\n",
       "      <td>0.6500</td>\n",
       "      <td>0.6775</td>\n",
       "      <td>0.6350</td>\n",
       "      <td>0.6425</td>\n",
       "    </tr>\n",
       "    <tr>\n",
       "      <th>6</th>\n",
       "      <td>1.6</td>\n",
       "      <td>0.6625</td>\n",
       "      <td>0.6525</td>\n",
       "      <td>0.6775</td>\n",
       "      <td>0.6350</td>\n",
       "      <td>0.6375</td>\n",
       "    </tr>\n",
       "    <tr>\n",
       "      <th>7</th>\n",
       "      <td>1.7</td>\n",
       "      <td>0.6650</td>\n",
       "      <td>0.6550</td>\n",
       "      <td>0.6800</td>\n",
       "      <td>0.6375</td>\n",
       "      <td>0.6475</td>\n",
       "    </tr>\n",
       "    <tr>\n",
       "      <th>8</th>\n",
       "      <td>1.8</td>\n",
       "      <td>0.6675</td>\n",
       "      <td>0.6600</td>\n",
       "      <td>0.6750</td>\n",
       "      <td>0.6425</td>\n",
       "      <td>0.6450</td>\n",
       "    </tr>\n",
       "    <tr>\n",
       "      <th>9</th>\n",
       "      <td>1.9</td>\n",
       "      <td>0.6575</td>\n",
       "      <td>0.6525</td>\n",
       "      <td>0.6775</td>\n",
       "      <td>0.6475</td>\n",
       "      <td>0.6450</td>\n",
       "    </tr>\n",
       "    <tr>\n",
       "      <th>10</th>\n",
       "      <td>2.0</td>\n",
       "      <td>0.6525</td>\n",
       "      <td>0.6575</td>\n",
       "      <td>0.6750</td>\n",
       "      <td>0.6575</td>\n",
       "      <td>0.6400</td>\n",
       "    </tr>\n",
       "    <tr>\n",
       "      <th>11</th>\n",
       "      <td>2.1</td>\n",
       "      <td>0.6475</td>\n",
       "      <td>0.6525</td>\n",
       "      <td>0.6675</td>\n",
       "      <td>0.6450</td>\n",
       "      <td>0.6400</td>\n",
       "    </tr>\n",
       "  </tbody>\n",
       "</table>\n",
       "</div>"
      ],
      "text/plain": [
       "    Unnamed: 0       0       1       2       3       4\n",
       "0          1.0  0.6450  0.6500  0.6625  0.6300  0.6375\n",
       "1          1.1  0.6525  0.6525  0.6675  0.6350  0.6350\n",
       "2          1.2  0.6600  0.6575  0.6750  0.6400  0.6350\n",
       "3          1.3  0.6625  0.6500  0.6750  0.6425  0.6300\n",
       "4          1.4  0.6600  0.6500  0.6800  0.6400  0.6400\n",
       "5          1.5  0.6650  0.6500  0.6775  0.6350  0.6425\n",
       "6          1.6  0.6625  0.6525  0.6775  0.6350  0.6375\n",
       "7          1.7  0.6650  0.6550  0.6800  0.6375  0.6475\n",
       "8          1.8  0.6675  0.6600  0.6750  0.6425  0.6450\n",
       "9          1.9  0.6575  0.6525  0.6775  0.6475  0.6450\n",
       "10         2.0  0.6525  0.6575  0.6750  0.6575  0.6400\n",
       "11         2.1  0.6475  0.6525  0.6675  0.6450  0.6400"
      ]
     },
     "execution_count": 39,
     "metadata": {},
     "output_type": "execute_result"
    }
   ],
   "source": [
    "res_ger"
   ]
  },
  {
   "cell_type": "code",
   "execution_count": null,
   "metadata": {},
   "outputs": [],
   "source": []
  },
  {
   "cell_type": "code",
   "execution_count": 61,
   "metadata": {},
   "outputs": [],
   "source": [
    "X_0_test=pd.read_csv('data/Xte0.csv', index_col=0).reset_index(drop=True)\n",
    "X_1_test=pd.read_csv('data/Xte1.csv', index_col=0).reset_index(drop=True)\n",
    "X_2_test=pd.read_csv('data/Xte2.csv', index_col=0).reset_index(drop=True)"
   ]
  },
  {
   "cell_type": "code",
   "execution_count": 64,
   "metadata": {},
   "outputs": [
    {
     "name": "stdout",
     "output_type": "stream",
     "text": [
      "Loading mismatch matrix\n",
      "Fit completed\n",
      "0.9435\n"
     ]
    }
   ],
   "source": [
    "mism=MismatchSVM(dataset_id=0, k=8, m=2)\n",
    "mism.compute_mismatch_matrice(norm=False)\n",
    "mism.fit(lmbda=1)\n",
    "print(mism.training_acc)\n",
    "\n",
    "pred_0=mism.predict(X_0_test)\n"
   ]
  },
  {
   "cell_type": "code",
   "execution_count": 66,
   "metadata": {},
   "outputs": [
    {
     "name": "stdout",
     "output_type": "stream",
     "text": [
      "Loading mismatch matrix\n",
      "Fit completed\n",
      "0.9215\n"
     ]
    }
   ],
   "source": [
    "mism=MismatchSVM(dataset_id=1, k=8, m=2)\n",
    "mism.compute_mismatch_matrice(norm=False)\n",
    "mism.fit(lmbda=1.75)\n",
    "print(mism.training_acc)\n",
    "\n",
    "pred_1=mism.predict(X_1_test)"
   ]
  },
  {
   "cell_type": "code",
   "execution_count": 70,
   "metadata": {},
   "outputs": [
    {
     "name": "stdout",
     "output_type": "stream",
     "text": [
      "Loading mismatch matrix\n",
      "Fit completed\n",
      "0.977\n"
     ]
    }
   ],
   "source": [
    "mism=MismatchSVM(dataset_id=2, k=8, m=2)\n",
    "mism.compute_mismatch_matrice(norm=False)\n",
    "mism.fit(lmbda=0.7)\n",
    "print(mism.training_acc)\n",
    "\n",
    "pred_2=mism.predict(X_2_test)"
   ]
  },
  {
   "cell_type": "code",
   "execution_count": 78,
   "metadata": {},
   "outputs": [],
   "source": [
    "pred_list=[]\n",
    "pred_list.append(pred_0)\n",
    "pred_list.append(pred_1)\n",
    "pred_list.append(pred_2)"
   ]
  },
  {
   "cell_type": "code",
   "execution_count": 79,
   "metadata": {},
   "outputs": [],
   "source": [
    "to_submit=pd.DataFrame(np.concatenate(pred_list)).reset_index().rename(columns={'index':'Id', 0:'Bound'})\n",
    "to_submit.loc[to_submit.Bound==-1, 'Bound']=0\n",
    "to_submit.to_csv('to_submit_7.csv' , sep=',', index=False, header=True)"
   ]
  },
  {
   "cell_type": "code",
   "execution_count": null,
   "metadata": {},
   "outputs": [],
   "source": []
  }
 ],
 "metadata": {
  "kernelspec": {
   "display_name": "Python 3",
   "language": "python",
   "name": "python3"
  },
  "language_info": {
   "codemirror_mode": {
    "name": "ipython",
    "version": 3
   },
   "file_extension": ".py",
   "mimetype": "text/x-python",
   "name": "python",
   "nbconvert_exporter": "python",
   "pygments_lexer": "ipython3",
   "version": "3.8.5"
  }
 },
 "nbformat": 4,
 "nbformat_minor": 4
}
